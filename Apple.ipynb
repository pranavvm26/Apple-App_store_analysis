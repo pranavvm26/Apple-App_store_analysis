{
 "cells": [
  {
   "cell_type": "code",
   "execution_count": 458,
   "metadata": {
    "collapsed": true
   },
   "outputs": [],
   "source": [
    "import pandas as pd\n",
    "import numpy as np\n",
    "import os\n",
    "import glob\n",
    "import sys\n",
    "import matplotlib.pyplot as plt\n",
    "from sklearn import linear_model\n",
    "from sklearn.preprocessing import StandardScaler\n",
    "from sklearn.metrics import mean_squared_error\n",
    "\n",
    "# User rating for the current application verrsion\n",
    "TARGET_COLUMN = \"user_rating_ver\"\n",
    "TEST_SIZE = 50"
   ]
  },
  {
   "cell_type": "code",
   "execution_count": 459,
   "metadata": {},
   "outputs": [],
   "source": [
    "# Read the CSV from the project root directory\n",
    "csvs = glob.glob(os.getcwd()+\"/*.csv\")\n",
    "df_appstore = pd.read_csv(csvs[0])\n",
    "df_appstore_description = pd.read_csv(csvs[1])"
   ]
  },
  {
   "cell_type": "code",
   "execution_count": 460,
   "metadata": {},
   "outputs": [],
   "source": [
    "# Merge the 2 dataframes based on the common column values\n",
    "df_apple = pd.merge(df_appstore, df_appstore_description, on=['id','track_name', 'size_bytes'], how='left')\n",
    "df_apple  = df_apple[list(df_apple.columns.values)[1:]]"
   ]
  },
  {
   "cell_type": "code",
   "execution_count": 461,
   "metadata": {},
   "outputs": [],
   "source": [
    "# Enumerate the genre \n",
    "genre_dict = {'prime_genre':[], 'genre_id':[]}\n",
    "for x, y in enumerate(list(df_apple['prime_genre'].unique())):\n",
    "    genre_dict['genre_id'].append(x)\n",
    "    genre_dict['prime_genre'].append(y)\n",
    "df_genre = pd.DataFrame().from_dict(genre_dict)\n",
    "df_apple = pd.merge(df_apple, df_genre, on='prime_genre', how='left')"
   ]
  },
  {
   "cell_type": "code",
   "execution_count": 462,
   "metadata": {},
   "outputs": [],
   "source": [
    "# Count the number of words in the description, outside chance that app description can correlate to predictor\n",
    "desc_count = []\n",
    "for idx, data in df_apple.iterrows():\n",
    "    desc_count.append(len(list(data['app_desc'])))\n",
    "df_apple['desc_count'] = pd.Series(desc_count)"
   ]
  },
  {
   "cell_type": "code",
   "execution_count": 463,
   "metadata": {},
   "outputs": [],
   "source": [
    "# Enumerate the content rating column of the dataset\n",
    "cont_rating_dict = {'cont_rating':[], 'cont_rating_id':[]}\n",
    "for x, y in enumerate(list(df_apple['cont_rating'].unique())):\n",
    "    cont_rating_dict['cont_rating_id'].append(x)\n",
    "    cont_rating_dict['cont_rating'].append(y)\n",
    "df_cont_rating = pd.DataFrame().from_dict(cont_rating_dict)\n",
    "df_apple = pd.merge(df_apple, df_cont_rating, on='cont_rating', how='left')"
   ]
  },
  {
   "cell_type": "code",
   "execution_count": 464,
   "metadata": {},
   "outputs": [],
   "source": [
    "# Remove string columns and unwanted categorical variable columnns\n",
    "df_apple_feat = df_apple.drop(['id', 'track_name','currency', 'ver', \n",
    "                               'cont_rating', 'prime_genre', 'vpp_lic', \n",
    "                               'app_desc'] , 1)\n",
    "# shuffle the dataframe\n",
    "df_apple_feat = df_apple_feat.reindex(np.random.permutation(df_apple_feat.index))"
   ]
  },
  {
   "cell_type": "code",
   "execution_count": 465,
   "metadata": {
    "scrolled": true
   },
   "outputs": [
    {
     "name": "stdout",
     "output_type": "stream",
     "text": [
      "spliting the dataset into test and train...\n",
      "normalizing the dataset...\n",
      "training column: ['size_bytes', 'price', 'rating_count_tot', 'rating_count_ver', 'user_rating', 'sup_devices.num', 'ipadSc_urls.num', 'lang.num', 'genre_id', 'desc_count', 'cont_rating_id']\n",
      "target columns: user_rating_ver\n",
      "train set: 7147 test set: 50\n"
     ]
    }
   ],
   "source": [
    "print(\"spliting the dataset into test and train...\")\n",
    "\n",
    "# Split the dataset into test and train set\n",
    "total_len = len(df_apple_feat.index)\n",
    "train_size = total_len - TEST_SIZE\n",
    "test_size = TEST_SIZE\n",
    "\n",
    "all_features_column = list(df_train.columns.values)\n",
    "target_column = TARGET_COLUMN\n",
    "training_columns = all_features_column\n",
    "del training_columns[training_columns.index(target_column)]\n",
    "\n",
    "\n",
    "df_x = df_apple_feat[training_columns]\n",
    "df_y = df_apple_feat[target_column]\n",
    "\n",
    "X = df_x.as_matrix()\n",
    "Y = df_y.as_matrix()\n",
    "\n",
    "print(\"normalizing the dataset...\")\n",
    "\n",
    "# Normalize the training dataset\n",
    "scaler = StandardScaler()\n",
    "# fit the data\n",
    "scaler.fit(X)\n",
    "# find the transformed data\n",
    "X_transformed = scaler.transform(X)\n",
    "\n",
    "# train dataframe\n",
    "X_train = X_transformed[0:train_size, :]\n",
    "Y_train = Y[0:train_size]\n",
    "\n",
    "# test dataframe\n",
    "X_test = X_transformed[train_size:, :]\n",
    "Y_test = Y[train_size:]\n",
    "\n",
    "print(\"training column:\",training_columns)\n",
    "print(\"target columns:\", target_column)\n",
    "\n",
    "print(\"train set:\", X_train.shape[0], \"test set:\", X_test.shape[0])"
   ]
  },
  {
   "cell_type": "code",
   "execution_count": 466,
   "metadata": {},
   "outputs": [
    {
     "name": "stdout",
     "output_type": "stream",
     "text": [
      "training...\n",
      "testing...\n",
      "Mean Squared Error value: 1.43\n"
     ]
    }
   ],
   "source": [
    "print(\"training...\")\n",
    "reg = linear_model.Lasso(alpha = 0.1)\n",
    "reg.fit(X_train, Y_train)\n",
    "\n",
    "print(\"testing...\")\n",
    "Y_predicted = reg.predict(X_test)\n",
    "mse_error = mean_squared_error(Y_test, Y_predicted.round(1))\n",
    "\n",
    "print(\"Mean Squared Error value:\", round(mse_error, 3))"
   ]
  },
  {
   "cell_type": "code",
   "execution_count": 467,
   "metadata": {},
   "outputs": [
    {
     "name": "stdout",
     "output_type": "stream",
     "text": [
      "Target: 4.5 Predicted: 4.1\n",
      "Target: 0.0 Predicted: 2.3\n",
      "Target: 0.0 Predicted: 0.3\n",
      "Target: 5.0 Predicted: 4.1\n",
      "Target: 4.5 Predicted: 4.0\n",
      "Target: 5.0 Predicted: 3.6\n",
      "Target: 0.0 Predicted: 0.3\n",
      "Target: 4.0 Predicted: 4.1\n",
      "Target: 0.0 Predicted: 0.2\n",
      "Target: 4.0 Predicted: 3.3\n",
      "Target: 4.5 Predicted: 4.1\n",
      "Target: 4.5 Predicted: 4.1\n",
      "Target: 3.0 Predicted: 3.3\n",
      "Target: 3.0 Predicted: 3.6\n",
      "Target: 1.5 Predicted: 3.1\n",
      "Target: 4.0 Predicted: 4.1\n",
      "Target: 5.0 Predicted: 4.1\n",
      "Target: 5.0 Predicted: 4.1\n",
      "Target: 4.0 Predicted: 3.6\n",
      "Target: 4.0 Predicted: 3.7\n",
      "Target: 0.0 Predicted: 3.6\n",
      "Target: 4.5 Predicted: 4.1\n",
      "Target: 0.0 Predicted: 4.5\n",
      "Target: 5.0 Predicted: 4.5\n",
      "Target: 3.0 Predicted: 3.3\n",
      "Target: 3.5 Predicted: 3.2\n",
      "Target: 4.5 Predicted: 4.0\n",
      "Target: 4.5 Predicted: 4.0\n",
      "Target: 3.5 Predicted: 3.3\n",
      "Target: 4.5 Predicted: 4.0\n",
      "Target: 4.5 Predicted: 4.1\n",
      "Target: 4.5 Predicted: 3.7\n",
      "Target: 5.0 Predicted: 4.1\n",
      "Target: 4.0 Predicted: 4.0\n",
      "Target: 4.5 Predicted: 3.7\n",
      "Target: 4.0 Predicted: 3.1\n",
      "Target: 1.0 Predicted: 4.5\n",
      "Target: 2.5 Predicted: 1.8\n",
      "Target: 5.0 Predicted: 3.7\n",
      "Target: 4.5 Predicted: 4.0\n",
      "Target: 4.0 Predicted: 3.6\n",
      "Target: 4.0 Predicted: 4.0\n",
      "Target: 0.0 Predicted: 0.1\n",
      "Target: 0.0 Predicted: 0.1\n",
      "Target: 5.0 Predicted: 4.5\n",
      "Target: 4.0 Predicted: 4.1\n",
      "Target: 3.5 Predicted: 4.0\n",
      "Target: 4.0 Predicted: 4.1\n",
      "Target: 5.0 Predicted: 4.1\n",
      "Target: 5.0 Predicted: 3.2\n"
     ]
    }
   ],
   "source": [
    "for yt, yp in list(zip(Y_test, Y_predicted)):\n",
    "    print(\"Target:\", yt, \"Predicted:\", yp.round(1))"
   ]
  },
  {
   "cell_type": "code",
   "execution_count": null,
   "metadata": {
    "collapsed": true
   },
   "outputs": [],
   "source": []
  },
  {
   "cell_type": "code",
   "execution_count": null,
   "metadata": {
    "collapsed": true
   },
   "outputs": [],
   "source": []
  },
  {
   "cell_type": "code",
   "execution_count": null,
   "metadata": {
    "collapsed": true
   },
   "outputs": [],
   "source": []
  }
 ],
 "metadata": {
  "kernelspec": {
   "display_name": "Python 3",
   "language": "python",
   "name": "python3"
  },
  "language_info": {
   "codemirror_mode": {
    "name": "ipython",
    "version": 3
   },
   "file_extension": ".py",
   "mimetype": "text/x-python",
   "name": "python",
   "nbconvert_exporter": "python",
   "pygments_lexer": "ipython3",
   "version": "3.6.1"
  }
 },
 "nbformat": 4,
 "nbformat_minor": 2
}
